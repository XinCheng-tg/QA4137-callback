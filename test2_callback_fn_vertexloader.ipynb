{
 "cells": [
  {
   "cell_type": "markdown",
   "id": "31a41fec-c7f0-4752-b57a-efb428327343",
   "metadata": {
    "tags": []
   },
   "source": [
    "## Data Loaders"
   ]
  },
  {
   "cell_type": "markdown",
   "id": "85d51c63-ed05-43d4-9e02-7d13763b5011",
   "metadata": {},
   "source": [
    "This notebook demonstrates the use of **vertex loader** in `pyTigerGraph`. The job of a data loader is to pull data from the TigerGraph database. Currently, the following data loaders are provided:\n",
    "* EdgeLoader, which returns batches of edges.\n",
    "* VertexLoader, which returns batches of vertices.\n",
    "* GraphLoader, which returns randomly sampled (probably disconnected) subgraphs in pandas `dataframe`, `PyG` or `DGL` format.\n",
    "* NeighborLoader, which returns subgraphs using neighbor sampling in `dataframe`, `PyG` or `DGL` format.\n",
    "* EdgeNeighborLoader, which returns subgraphs using neighbor sampling from edges in `dataframe`, `PyG` or `DGL` format.\n",
    "\n",
    "Every data loader above can either get all the batches as a HTTP response (default) or stream every batch through Kafka. The former mechanism is good for testing with small graphs and it is fast, but it subjects to a data size limit of 2GB. For large graphs, the HTTP channel will likely fail due to size limit and network connectivity issues. Streaming via Kafka is offered for data robustness and scalability. Also, Kafka excels at multi-consumer use cases, and it is efficient for model search or hyperparameter tuning when there are multiiple consumers of the same data. \n",
    "\n",
    "The data loaders support both homogeneous and heterogenous graphs. By default, they load from all vertex and edge types and treat the graph as a homogeneous graph. But they also allow users to specify what vertex and edge types to load from and what attributes to load from each type. This way users will get heterogeneous graph outputs.\n"
   ]
  },
  {
   "cell_type": "markdown",
   "id": "ee9243a4-69ae-4a04-ab82-dc6d393e0cb7",
   "metadata": {},
   "source": [
    "### Connection to Database"
   ]
  },
  {
   "cell_type": "markdown",
   "id": "9ff08e15-5d93-4f30-8a9d-6b101b1604e4",
   "metadata": {},
   "source": [
    "The `TigerGraphConnection` class represents a connection to the TigerGraph database. Under the hood, it stores the necessary information to communicate with the database. It is able to perform quite a few database tasks. Please see its [documentation](https://docs.tigergraph.com/pytigergraph/current/intro/) for details."
   ]
  },
  {
   "cell_type": "code",
   "execution_count": 1,
   "id": "c2c4b1e8-a0e2-4026-9bb1-218cdc7ca4b9",
   "metadata": {},
   "outputs": [
    {
     "name": "stdout",
     "output_type": "stream",
     "text": [
      "A folder with name Cora already exists in ./tmp. Skip downloading.\n",
      "---- Checking database ----\n",
      "A graph with name Cora already exists in the database. Skip ingestion.\n",
      "Graph name is set to Cora for this connection.\n"
     ]
    },
    {
     "data": {
      "application/vnd.jupyter.widget-view+json": {
       "model_id": "db664f8c20aa49369fbcd158065b9d2a",
       "version_major": 2,
       "version_minor": 0
      },
      "text/plain": [
       "CytoscapeWidget(cytoscape_layout={'name': 'circle', 'animate': True, 'padding': 1}, cytoscape_style=[{'selecto…"
      ]
     },
     "execution_count": 1,
     "metadata": {},
     "output_type": "execute_result"
    }
   ],
   "source": [
    "from pyTigerGraph import TigerGraphConnection\n",
    "import json\n",
    "\n",
    "# Read in DB configs\n",
    "with open('../../config.json', \"r\") as config_file:\n",
    "    config = json.load(config_file)\n",
    "    \n",
    "conn = TigerGraphConnection(\n",
    "    host=config[\"host\"],\n",
    "    username=config[\"username\"],\n",
    "    password=config[\"password\"]\n",
    ")\n",
    "\n",
    "from pyTigerGraph.datasets import Datasets\n",
    "\n",
    "dataset = Datasets(\"Cora\")\n",
    "\n",
    "conn.ingestDataset(dataset, getToken=config[\"getToken\"])\n",
    "\n",
    "from pyTigerGraph.visualization import drawSchema\n",
    "\n",
    "drawSchema(conn.getSchema(force=True))"
   ]
  },
  {
   "cell_type": "markdown",
   "id": "f0b86c77",
   "metadata": {},
   "source": [
    "<span style=\"color:red\">Uncomment cell below and run to get and set token if token authentication is enabled</span>. \n",
    "* This is required for all databases on tgcloud.\n",
    "* `<secret>` is your user secret. See https://docs.tigergraph.com/tigergraph-server/current/user-access/managing-credentials#_secrets for details.\n",
    "* If you don't know your secret, you can use `secret=conn.createSecret()` to create one."
   ]
  },
  {
   "cell_type": "markdown",
   "id": "7ad2cc34-545d-4220-8938-e3eda1797fda",
   "metadata": {},
   "source": [
    "### Vertex Loader"
   ]
  },
  {
   "cell_type": "markdown",
   "id": "b490831c-409e-4234-9c7c-775273ca698b",
   "metadata": {},
   "source": [
    "`VertexLoader` pulls batches of vertices from database. Specifically, it divides vertices into `num_batches` and returns each batch separately. The boolean attribute provided to `filter_by` indicates which vertices are included. If you need random batches, set `shuffle` to True.\n",
    "\n",
    "**Note**: For the first time you initialize the loader on a graph in TigerGraph, the initialization might take a minute as it installs the corresponding query to the database and optimizes it. However, the query installation only needs to be done once, so it will take no time when you initialize the loader on the same TG graph again.\n",
    "\n",
    "There are two ways to use the data loader. See [here](https://github.com/TigerGraph-DevLabs/mlworkbench-docs/blob/main/tutorials/basics/2_dataloaders.ipynb) for examples.\n",
    "* First, it can be used as an iterable, which means you can loop through it to get every batch of data. If you load all vertices at once (`num_batches=1`), there will be only one batch (of all the vertices) in the iterator.\n",
    "* Second, you can access the `data` property of the class directly. If there is only one batch of data to load, it will give you the batch directly instead of an iterator, which might make more sense in that case. If there are multiple batches of data to load, it will return the loader again.\n",
    "\n",
    "Args:\n",
    "* attributes (list or dict, optional):\n",
    "                Vertex attributes to be included. If it is a list, then the attributes\n",
    "                in the list from all vertex types will be selected. An error will be thrown if\n",
    "                certain attribute doesn't exist in all vertex types. If it is a dict, keys of the \n",
    "                dict are vertex types to be selected, and values are lists of attributes to be \n",
    "                selected for each vertex type. Defaults to None.\n",
    "* batch_size (int, optional):\n",
    "                Number of vertices in each batch.\n",
    "                Defaults to None.\n",
    "* num_batches (int, optional):\n",
    "                Number of batches to split the vertices.\n",
    "                Defaults to 1.\n",
    "* shuffle (bool, optional):\n",
    "                Whether to shuffle the vertices before loading data.\n",
    "                Defaults to False.\n",
    "* filter_by (str, optional):\n",
    "                A boolean attribute used to indicate which vertices\n",
    "                can be included. Defaults to None.\n",
    "* output_format (str, optional):\n",
    "                Format of the output data of the loader. Only\n",
    "                \"dataframe\" is supported. Defaults to \"dataframe\".\n",
    "* loader_id (str, optional):\n",
    "                An identifier of the loader which can be any string. It is\n",
    "                also used as the Kafka topic name. If `None`, a random string will be generated\n",
    "                for it. Defaults to None.\n",
    "* buffer_size (int, optional):\n",
    "                Number of data batches to prefetch and store in memory. Defaults to 4.\n",
    "* timeout (int, optional):\n",
    "                Timeout value for GSQL queries, in ms. Defaults to 300000."
   ]
  },
  {
   "cell_type": "markdown",
   "id": "c87676b8-ca4f-403d-87a6-9763be1eb12e",
   "metadata": {},
   "source": [
    "# Testcase1: using vertexLoader with callback_fn to get batches of edges.(for homogeneous graph)  \n",
    "## Results: run successfully, data loaded completely"
   ]
  },
  {
   "cell_type": "code",
   "execution_count": 2,
   "id": "888d81da-dcd3-44a3-97e7-0106083d0f0e",
   "metadata": {},
   "outputs": [
    {
     "name": "stdout",
     "output_type": "stream",
     "text": [
      "----Batch 0----\n",
      "(2708, 4)\n",
      "         vid    id                                                  x  y\n",
      "0  100663296  2703  0 0 0 0 0 1 0 0 0 0 0 0 0 0 0 0 0 0 0 1 0 0 0 ...  3\n",
      "1  100663297  2508  0 0 0 0 0 0 0 0 0 0 0 0 0 0 0 0 0 0 0 0 0 0 0 ...  3\n",
      "2  100663298  2379  0 0 0 0 0 0 0 0 0 0 0 0 0 0 0 0 0 0 0 1 0 0 0 ...  4\n",
      "3  100663299  2365  0 0 0 0 0 0 0 0 0 0 0 0 0 0 0 0 0 0 0 0 0 0 0 ...  2\n",
      "4  100663300  2277  0 0 0 0 0 0 0 0 0 0 0 0 0 0 0 0 0 0 0 0 0 0 0 ...  0\n"
     ]
    }
   ],
   "source": [
    "def process_batch(batch):\n",
    "    return batch\n",
    "vertex_loader1 = conn.gds.vertexLoader(\n",
    "    num_batches=10, \n",
    "    attributes=[\"id\", \"x\", \"y\"],\n",
    "    callback_fn = process_batch\n",
    ")\n",
    "for i, batch in enumerate(vertex_loader1):\n",
    "    print(\"----Batch {}----\".format(i))\n",
    "    print(batch.shape)\n",
    "    print(batch.head())"
   ]
  },
  {
   "cell_type": "markdown",
   "id": "4917e4af-392d-4c90-bc20-5d40324a30c4",
   "metadata": {},
   "source": [
    "# Testcase2: using vertexLoader with callback_fn to get batchs of vertices(for heterogeneous graph).  \n",
    "## case details:using vertexLoader without callback_fn first, then using vertexLoader with callback_fn to get part of data.\n",
    "## Results: run successfully, data loaded completely"
   ]
  },
  {
   "cell_type": "markdown",
   "id": "7e56def3",
   "metadata": {},
   "source": [
    "Since `Cora` is a homogeneous graph, we will connect to a different graph to demostrate the use case of heterogeneous graphs."
   ]
  },
  {
   "cell_type": "code",
   "execution_count": 4,
   "id": "05616b55",
   "metadata": {},
   "outputs": [
    {
     "name": "stdout",
     "output_type": "stream",
     "text": [
      "Semantic Check Fails: The graph name conflicts with another type or existing graph names! Please use a different name.\n",
      "The graph hetero could not be created!\n",
      "Using graph 'hetero'\n",
      "Semantic Check Fails: The vertex name v0 is used by another object! Please use a different name.\n",
      "Failed to create schema change jobs: [hetero_job].\n",
      "Using graph 'hetero'\n",
      "Semantic Check Fails: The job name load_hetero_data already exists in other objects!\n",
      "Failed to create loading jobs: [load_hetero_data].\n"
     ]
    },
    {
     "data": {
      "text/plain": [
       "[{'sourceFileName': 'Online_POST',\n",
       "  'statistics': {'validLine': 966,\n",
       "   'rejectLine': 0,\n",
       "   'failedConditionLine': 0,\n",
       "   'notEnoughToken': 0,\n",
       "   'invalidJson': 0,\n",
       "   'oversizeToken': 0,\n",
       "   'vertex': [],\n",
       "   'edge': [{'typeName': 'v2v2',\n",
       "     'validObject': 966,\n",
       "     'noIdFound': 0,\n",
       "     'invalidAttribute': 0,\n",
       "     'invalidVertexType': 0,\n",
       "     'invalidPrimaryId': 0,\n",
       "     'invalidSecondaryId': 0,\n",
       "     'incorrectFixedBinaryLength': 0}],\n",
       "   'deleteVertex': [],\n",
       "   'deleteEdge': []}}]"
      ]
     },
     "execution_count": 4,
     "metadata": {},
     "output_type": "execute_result"
    }
   ],
   "source": [
    "print(conn.gsql(\"CREATE GRAPH hetero()\"))\n",
    "\n",
    "conn.graphname=\"hetero\"\n",
    "# Create graph schema\n",
    "print(conn.gsql(open(\"./data/heterogenous/gsql/schema.gsql\", \"r\").read()))\n",
    "# Create loading job\n",
    "print(conn.gsql(open(\"./data/heterogenous/gsql/load.gsql\", \"r\").read()))\n",
    "\n",
    "# COMMENT OUT THE LINE BELOW if you are NOT using a graph that requires token authentication\n",
    "conn.getToken(conn.createSecret())\n",
    "\n",
    "# Load data\n",
    "conn.runLoadingJobWithFile(\"./data/heterogenous/v0.csv\", \"v0_csv\", \"load_hetero_data\")\n",
    "conn.runLoadingJobWithFile(\"./data/heterogenous/v1.csv\", \"v1_csv\", \"load_hetero_data\")\n",
    "conn.runLoadingJobWithFile(\"./data/heterogenous/v2.csv\", \"v2_csv\", \"load_hetero_data\")\n",
    "conn.runLoadingJobWithFile(\"./data/heterogenous/v0v0.csv\", \"v0v0_csv\", \"load_hetero_data\")\n",
    "conn.runLoadingJobWithFile(\"./data/heterogenous/v1v1.csv\", \"v1v1_csv\", \"load_hetero_data\")\n",
    "conn.runLoadingJobWithFile(\"./data/heterogenous/v1v2.csv\", \"v1v2_csv\", \"load_hetero_data\")\n",
    "conn.runLoadingJobWithFile(\"./data/heterogenous/v2v0.csv\", \"v2v0_csv\", \"load_hetero_data\")\n",
    "conn.runLoadingJobWithFile(\"./data/heterogenous/v2v1.csv\", \"v2v1_csv\", \"load_hetero_data\")\n",
    "conn.runLoadingJobWithFile(\"./data/heterogenous/v2v2.csv\", \"v2v2_csv\", \"load_hetero_data\")"
   ]
  },
  {
   "cell_type": "code",
   "execution_count": null,
   "id": "a76b9591",
   "metadata": {},
   "outputs": [
    {
     "name": "stdout",
     "output_type": "stream",
     "text": [
      "----Batch 0----\n",
      "Vertex type: v0\n",
      "         vid                                                  x  y\n",
      "0  135266304  -1.39324 -0.815802 0.524335 1.28013 -0.299068 ...  4\n",
      "Vertex type: v1\n",
      "         vid                                                  x\n",
      "0  181403652  1.28591 -1.024 -0.952083 -0.757218 -0.973589 0...\n",
      "----Batch 1----\n",
      "Vertex type: v0\n",
      "         vid                                                  x  y\n",
      "0  152043520  -1.50195 -0.251676 -0.876361 0.351269 -0.72887...  4\n",
      "Vertex type: v1\n",
      "         vid                                                  x\n",
      "0  185597952  0.280565 0.222271 -1.08299 1.05294 -0.404641 0...\n",
      "----Batch 2----\n",
      "Vertex type: v0\n",
      "         vid                                                  x  y\n",
      "0  161480704  1.2661 1.56835 0.91763 -1.23061 -0.609033 0.55...  1\n",
      "Vertex type: v1\n",
      "         vid                                                  x\n",
      "0  186646531  1.41948 -0.721332 -0.251678 -1.84578 -0.362447...\n",
      "----Batch 3----\n",
      "Vertex type: v0\n",
      "         vid                                                  x  y\n",
      "0  134217731  -0.0131173 0.104024 -2.24319 -1.65461 0.479263...  2\n",
      "Vertex type: v1\n",
      "         vid                                                  x\n",
      "0  141557761  -1.217 -1.54553 1.73903 1.51622 -0.148302 1.51...\n",
      "----Batch 4----\n",
      "Vertex type: v0\n",
      "         vid                                                  x  y\n",
      "0  150994945  -0.595085 -6.22868e-05 -0.837059 1.73668 1.577...  6\n",
      "Vertex type: v1\n",
      "         vid                                                  x\n",
      "0  169869316  1.58411 1.44051 -1.47417 -0.680528 -0.882703 0...\n",
      "----Batch 5----\n",
      "Vertex type: v0\n",
      "         vid                                                  x  y\n",
      "0  134217733  0.480141 -0.169968 1.74605 0.265025 0.710991 -...  9\n",
      "Vertex type: v1\n",
      "         vid                                                  x\n",
      "0  169869312  -0.606585 -2.92581 -0.174506 0.717841 -1.06814...\n",
      "----Batch 6----\n",
      "Vertex type: v0\n",
      "         vid                                                  x  y\n",
      "0  161480705  -0.241945 0.203174 -0.154265 -0.482115 -0.7822...  1\n",
      "Vertex type: v1\n",
      "         vid                                                  x\n",
      "0  170917892  0.36163 0.222197 -0.680197 1.3622 -0.368279 -1...\n",
      "----Batch 7----\n",
      "Vertex type: v0\n",
      "         vid                                                  x  y\n",
      "0  147849218  2.72158 -0.0999531 0.0666411 -0.141849 0.07467...  3\n",
      "Vertex type: v1\n",
      "         vid                                                  x\n",
      "0  170917893  0.463621 0.0813887 1.06877 -0.349892 -0.234007...\n",
      "----Batch 8----\n",
      "Vertex type: v0\n",
      "         vid                                                  x  y\n",
      "0  135266305  1.24775 -0.152248 -1.3978 -0.580949 0.457558 0...  8\n",
      "Vertex type: v1\n",
      "         vid                                                  x\n",
      "0  167772160  -0.511832 -1.14916 -1.22807 -2.38513 -0.161748...\n",
      "----Batch 9----\n",
      "Vertex type: v0\n",
      "         vid                                                  x  y\n",
      "0  136314882  -0.879585 0.773045 0.0512954 -0.188269 -0.8714...  4\n",
      "Vertex type: v1\n",
      "         vid                                                  x\n",
      "0  168820737  0.655931 0.0457674 -2.11289 -0.17974 0.13049 1...\n"
     ]
    }
   ],
   "source": [
    "loader3 = conn.gds.vertexLoader(\n",
    "    attributes={\"v0\": [\"x\", \"y\"],\n",
    "                \"v1\": [\"x\"]},\n",
    "    batch_size=20,\n",
    "    shuffle=True,\n",
    "    filter_by=None,\n",
    "    loader_id=None,\n",
    "    buffer_size=4,\n",
    ")\n",
    "for i, batch in enumerate(loader3):\n",
    "    print(\"----Batch {}----\".format(i))\n",
    "    for j in batch:\n",
    "        print(\"Vertex type:\", j)\n",
    "        print(batch[j].head(1))"
   ]
  },
  {
   "cell_type": "code",
   "execution_count": 6,
   "id": "52a3d944-b782-44cd-81ae-8f1f193cfaa1",
   "metadata": {},
   "outputs": [
    {
     "name": "stdout",
     "output_type": "stream",
     "text": [
      "----Batch 0----\n",
      "Vertex type: v0\n",
      "         vid                                                  x  y\n",
      "0  134217732  0.292398 0.947335 -1.09759 -0.389061 1.1454 -1...  3\n",
      "----Batch 1----\n",
      "Vertex type: v0\n",
      "         vid                                                  x  y\n",
      "0  134217728  -0.188107 -0.301286 1.2804 0.675936 0.717697 1...  1\n",
      "----Batch 2----\n",
      "Vertex type: v0\n",
      "         vid                                                  x  y\n",
      "0  138412033  1.96028 -0.881764 -0.00337484 0.277803 -0.3281...  8\n",
      "----Batch 3----\n",
      "Vertex type: v0\n",
      "         vid                                                  x  y\n",
      "0  138412032  -1.4369 0.245456 0.229138 1.0582 -0.0612754 -0...  5\n",
      "----Batch 4----\n",
      "Vertex type: v0\n",
      "         vid                                                  x  y\n",
      "0  137363457  -1.00629 -0.767798 0.199938 0.992184 0.736447 ...  7\n",
      "----Batch 5----\n",
      "Vertex type: v0\n",
      "         vid                                                  x  y\n",
      "0  136314880  -1.29082 0.908381 0.621846 -1.05145 -1.24387 1...  1\n",
      "----Batch 6----\n",
      "Vertex type: v0\n",
      "         vid                                                  x  y\n",
      "0  134217730  -0.644559 0.0658884 -0.590563 0.278513 0.97017...  9\n",
      "----Batch 7----\n",
      "Vertex type: v0\n",
      "         vid                                                  x  y\n",
      "0  150994944  -0.554191 0.788388 0.289543 0.347697 0.734302 ...  4\n",
      "----Batch 8----\n",
      "Vertex type: v0\n",
      "         vid                                                  x  y\n",
      "0  136314883  0.355068 2.10619 0.366515 0.359871 2.3443 -0.0...  9\n",
      "----Batch 9----\n",
      "Vertex type: v0\n",
      "         vid                                                  x  y\n",
      "0  134217731  -0.0131173 0.104024 -2.24319 -1.65461 0.479263...  2\n"
     ]
    }
   ],
   "source": [
    "def process_batch(batch):\n",
    "    return {\"v0\":batch[\"v0\"]}\n",
    "loader4 = conn.gds.vertexLoader(\n",
    "    attributes={\"v0\": [\"x\", \"y\"],\n",
    "                \"v1\": [\"x\"]},\n",
    "    batch_size=20,\n",
    "    shuffle=True,\n",
    "    filter_by=None,\n",
    "    loader_id=None,\n",
    "    buffer_size=4,\n",
    "    callback_fn=process_batch\n",
    ")\n",
    "for i, batch in enumerate(loader4):\n",
    "    print(\"----Batch {}----\".format(i))\n",
    "    for j in batch:\n",
    "        print(\"Vertex type:\", j)\n",
    "        print(batch[j].head(1))"
   ]
  },
  {
   "cell_type": "markdown",
   "id": "aef437fe",
   "metadata": {
    "tags": []
   },
   "source": [
    "# Testcase3: using vertexLoader with callback_fn to loaddata(via Kafka).  \n",
    "## Results: run successfully, data loaded completely\n",
    "\n",
    "**Note**: Kafka streaming function is only available for the Enterprise Edition. You need to activate the Enterprise Edition to use it. "
   ]
  },
  {
   "cell_type": "code",
   "execution_count": 36,
   "id": "9d31863f",
   "metadata": {},
   "outputs": [
    {
     "data": {
      "text/plain": [
       "('g3ifmt4jgjk46g478dkdihio4j4d7ppm', 1674807685, '2023-01-27 08:21:25')"
      ]
     },
     "execution_count": 36,
     "metadata": {},
     "output_type": "execute_result"
    }
   ],
   "source": [
    "conn.graphname=\"Cora\"\n",
    "# COMMENT OUT THE LINE BELOW if you are NOT using a graph that requires token authentication\n",
    "conn.getToken(conn.createSecret())"
   ]
  },
  {
   "cell_type": "markdown",
   "id": "86c6ce45-0136-47c5-900a-1e78bc7cb792",
   "metadata": {},
   "source": [
    "#### Configure Kafka\n",
    "Set up Kafka here. Once configured, the settings will be shared with all newly created data loaders and no need to set up Kafka for each loader. Please see official [doc](https://docs.tigergraph.com/pytigergraph/current/gds/gds#_configurekafka) for detailed settings."
   ]
  },
  {
   "cell_type": "code",
   "execution_count": 37,
   "id": "3a0dbe70-29f9-4205-9f53-e8d4e8883eb7",
   "metadata": {},
   "outputs": [],
   "source": [
    "conn.gds.configureKafka(kafka_address =\"your_Kafka_address\")"
   ]
  },
  {
   "cell_type": "markdown",
   "id": "0361abb0-7fff-4de6-8a3a-b8af2a0e34a0",
   "metadata": {},
   "source": [
    "#### Get batches of vertices"
   ]
  },
  {
   "cell_type": "code",
   "execution_count": 40,
   "id": "cba77c66",
   "metadata": {},
   "outputs": [
    {
     "name": "stderr",
     "output_type": "stream",
     "text": [
      "WARNING:kafka.coordinator.consumer:group_id is None: disabling auto-commit.\n"
     ]
    },
    {
     "name": "stdout",
     "output_type": "stream",
     "text": [
      "----Batch 0----\n",
      "(128, 4)\n",
      "         vid  id                                                  x  y\n",
      "0  102760477  16  0 0 0 0 0 0 0 0 0 0 0 0 0 0 0 0 0 0 0 0 0 0 0 ...  2\n",
      "----Batch 1----\n",
      "(146, 4)\n",
      "         vid    id                                                  x  y\n",
      "0  100663320  1295  0 0 0 0 0 0 0 0 0 0 0 0 0 0 0 0 0 0 0 1 0 0 0 ...  3\n",
      "----Batch 2----\n",
      "(147, 4)\n",
      "         vid    id                                                  x  y\n",
      "0  118489096  1878  0 0 0 0 0 0 0 0 0 0 0 0 0 0 0 0 0 0 0 0 0 0 0 ...  5\n",
      "----Batch 3----\n",
      "(123, 4)\n",
      "         vid    id                                                  x  y\n",
      "0  119537676  2173  0 0 0 0 0 0 0 0 0 0 0 0 0 0 0 0 0 0 0 0 0 0 0 ...  6\n",
      "----Batch 4----\n",
      "(124, 4)\n",
      "         vid   id                                                  x  y\n",
      "0  100663359  668  0 0 0 0 1 0 0 0 1 0 0 0 0 0 0 0 0 0 0 0 0 0 0 ...  5\n",
      "----Batch 5----\n",
      "(143, 4)\n",
      "         vid    id                                                  x  y\n",
      "0  102760461  2035  0 0 0 0 0 0 0 0 0 0 0 0 0 0 0 0 0 0 0 1 0 0 0 ...  3\n",
      "----Batch 6----\n",
      "(137, 4)\n",
      "         vid   id                                                  x  y\n",
      "0  100663318  490  0 0 0 0 0 0 0 0 0 0 0 0 0 0 0 0 0 0 0 0 0 0 0 ...  5\n",
      "----Batch 7----\n",
      "(123, 4)\n",
      "         vid    id                                                  x  y\n",
      "0  104857600  2627  0 0 0 0 0 0 0 0 0 0 0 0 0 0 0 0 0 0 0 0 0 0 0 ...  2\n",
      "----Batch 8----\n",
      "(132, 4)\n",
      "         vid   id                                                  x  y\n",
      "0  104857629  523  0 0 0 0 0 0 0 0 0 0 0 0 0 0 0 0 0 0 0 0 0 0 0 ...  4\n",
      "----Batch 9----\n",
      "(136, 4)\n",
      "         vid    id                                                  x  y\n",
      "0  100663296  2703  0 0 0 0 0 1 0 0 0 0 0 0 0 0 0 0 0 0 0 1 0 0 0 ...  3\n",
      "----Batch 10----\n",
      "(148, 4)\n",
      "         vid    id                                                  x  y\n",
      "0  120586259  1748  0 0 1 0 0 0 0 0 0 0 0 0 0 0 0 0 0 0 0 0 0 0 0 ...  2\n",
      "----Batch 11----\n",
      "(129, 4)\n",
      "         vid   id                                                  x  y\n",
      "0  109051937  732  0 0 0 0 0 0 0 0 0 0 0 0 0 0 0 0 0 0 0 0 0 0 0 ...  2\n",
      "----Batch 12----\n",
      "(142, 4)\n",
      "         vid    id                                                  x  y\n",
      "0  103809029  2150  0 0 0 0 0 0 0 0 0 0 0 0 0 0 0 0 0 0 0 0 0 0 0 ...  5\n",
      "----Batch 13----\n",
      "(136, 4)\n",
      "         vid   id                                                  x  y\n",
      "0  100663307  815  0 0 0 0 0 0 0 0 0 0 0 0 0 0 0 0 0 0 0 0 0 0 0 ...  0\n",
      "----Batch 14----\n",
      "(146, 4)\n",
      "         vid    id                                                  x  y\n",
      "0  110100490  2302  0 0 0 0 0 0 0 0 0 0 0 0 0 0 0 0 1 0 0 1 0 0 0 ...  3\n",
      "----Batch 15----\n",
      "(123, 4)\n",
      "         vid   id                                                  x  y\n",
      "0  100663308  555  0 0 0 0 0 0 0 0 0 0 0 0 0 0 0 0 0 0 0 0 0 0 0 ...  3\n",
      "----Batch 16----\n",
      "(144, 4)\n",
      "         vid   id                                                  x  y\n",
      "0  102760470  764  0 0 0 0 0 0 0 0 0 0 0 0 0 0 0 0 0 0 0 0 0 0 0 ...  2\n",
      "----Batch 17----\n",
      "(139, 4)\n",
      "         vid    id                                                  x  y\n",
      "0  100663297  2508  0 0 0 0 0 0 0 0 0 0 0 0 0 0 0 0 0 0 0 0 0 0 0 ...  3\n",
      "----Batch 18----\n",
      "(119, 4)\n",
      "         vid    id                                                  x  y\n",
      "0  102760451  2427  0 0 0 0 0 0 0 0 0 0 0 0 0 0 0 0 0 0 0 0 0 0 0 ...  3\n",
      "----Batch 19----\n",
      "(143, 4)\n",
      "         vid    id                                                  x  y\n",
      "0  100663300  2277  0 0 0 0 0 0 0 0 0 0 0 0 0 0 0 0 0 0 0 0 0 0 0 ...  0\n"
     ]
    }
   ],
   "source": [
    "def process_batch(batch):\n",
    "    return batch\n",
    "vertex_loader5 = conn.gds.vertexLoader(\n",
    "    num_batches=20, \n",
    "    attributes=[\"id\", \"x\", \"y\"],\n",
    "    shuffle=True,\n",
    "    filter_by=None,\n",
    "    callback_fn = process_batch\n",
    ")\n",
    "for i, batch in enumerate(vertex_loader5):\n",
    "    print(\"----Batch {}----\".format(i))\n",
    "    print(batch.shape)\n",
    "    print(batch.head(1))"
   ]
  },
  {
   "cell_type": "code",
   "execution_count": null,
   "id": "18e00835",
   "metadata": {},
   "outputs": [],
   "source": []
  }
 ],
 "metadata": {
  "environment": {
   "name": "pytorch-gpu.1-9.m81",
   "type": "gcloud",
   "uri": "gcr.io/deeplearning-platform-release/pytorch-gpu.1-9:m81"
  },
  "kernelspec": {
   "display_name": "Python 3.8.9 64-bit",
   "language": "python",
   "name": "python3"
  },
  "language_info": {
   "codemirror_mode": {
    "name": "ipython",
    "version": 3
   },
   "file_extension": ".py",
   "mimetype": "text/x-python",
   "name": "python",
   "nbconvert_exporter": "python",
   "pygments_lexer": "ipython3",
   "version": "3.8.9"
  },
  "toc-autonumbering": false,
  "toc-showtags": false,
  "vscode": {
   "interpreter": {
    "hash": "31f2aee4e71d21fbe5cf8b01ff0e069b9275f58929596ceb00d14d90e3e16cd6"
   }
  }
 },
 "nbformat": 4,
 "nbformat_minor": 5
}
